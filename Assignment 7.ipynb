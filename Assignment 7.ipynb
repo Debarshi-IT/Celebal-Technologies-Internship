{
  "nbformat": 4,
  "nbformat_minor": 0,
  "metadata": {
    "colab": {
      "provenance": []
    },
    "kernelspec": {
      "name": "python3",
      "display_name": "Python 3"
    },
    "language_info": {
      "name": "python"
    }
  },
  "cells": [
    {
      "cell_type": "code",
      "execution_count": 1,
      "metadata": {
        "id": "ORiKNcUFgpKG"
      },
      "outputs": [],
      "source": [
        "# Example using a simple Iris classifier\n",
        "\n",
        "from sklearn.datasets import load_iris\n",
        "from sklearn.ensemble import RandomForestClassifier\n",
        "import pickle\n",
        "\n",
        "# Load data\n",
        "iris = load_iris()\n",
        "X, y = iris.data, iris.target\n",
        "\n",
        "# Train model\n",
        "model = RandomForestClassifier()\n",
        "model.fit(X, y)\n",
        "\n",
        "# Save model\n",
        "with open('iris_model.pkl', 'wb') as f:\n",
        "    pickle.dump(model, f)"
      ]
    },
    {
      "cell_type": "code",
      "source": [
        "!pip install streamlit pyngrok --quiet"
      ],
      "metadata": {
        "colab": {
          "base_uri": "https://localhost:8080/"
        },
        "id": "vGiNAi5zgsoQ",
        "outputId": "ce3e089b-ba5d-4687-be09-aecb4b98ec6b"
      },
      "execution_count": 2,
      "outputs": [
        {
          "output_type": "stream",
          "name": "stdout",
          "text": [
            "\u001b[2K     \u001b[90m━━━━━━━━━━━━━━━━━━━━━━━━━━━━━━━━━━━━━━━━\u001b[0m \u001b[32m44.3/44.3 kB\u001b[0m \u001b[31m1.6 MB/s\u001b[0m eta \u001b[36m0:00:00\u001b[0m\n",
            "\u001b[2K   \u001b[90m━━━━━━━━━━━━━━━━━━━━━━━━━━━━━━━━━━━━━━━━\u001b[0m \u001b[32m10.1/10.1 MB\u001b[0m \u001b[31m66.3 MB/s\u001b[0m eta \u001b[36m0:00:00\u001b[0m\n",
            "\u001b[2K   \u001b[90m━━━━━━━━━━━━━━━━━━━━━━━━━━━━━━━━━━━━━━━━\u001b[0m \u001b[32m6.9/6.9 MB\u001b[0m \u001b[31m86.9 MB/s\u001b[0m eta \u001b[36m0:00:00\u001b[0m\n",
            "\u001b[2K   \u001b[90m━━━━━━━━━━━━━━━━━━━━━━━━━━━━━━━━━━━━━━━━\u001b[0m \u001b[32m79.1/79.1 kB\u001b[0m \u001b[31m5.3 MB/s\u001b[0m eta \u001b[36m0:00:00\u001b[0m\n",
            "\u001b[?25h"
          ]
        }
      ]
    },
    {
      "cell_type": "code",
      "source": [
        "from pyngrok import ngrok\n",
        "\n",
        "# Set your authtoken here\n",
        "ngrok.set_auth_token(\"2zqyvCYMUZlwMdqay9uofPjbn54_5K6XtiH8PRFt85zsPWK3e\")"
      ],
      "metadata": {
        "id": "LmE6TwnUgskm"
      },
      "execution_count": 13,
      "outputs": []
    },
    {
      "cell_type": "code",
      "source": [
        "from pyngrok import ngrok\n",
        "\n",
        "# Use your actual token here (keep quotes)\n",
        "ngrok.set_auth_token(\"2zqyvCYMUZlwMdqay9uofPjbn54_5K6XtiH8PRFt85zsPWK3e\")"
      ],
      "metadata": {
        "id": "7zvqudDogshd"
      },
      "execution_count": 14,
      "outputs": []
    },
    {
      "cell_type": "code",
      "source": [
        "%%writefile app.py\n",
        "import streamlit as st\n",
        "import pickle\n",
        "import numpy as np\n",
        "\n",
        "# Load model\n",
        "with open(\"iris_model.pkl\", \"rb\") as f:\n",
        "    model = pickle.load(f)\n",
        "\n",
        "st.title(\"🌸 Iris Flower Predictor\")\n",
        "st.write(\"Enter the flower features to predict its type\")\n",
        "\n",
        "# Sliders for input\n",
        "sepal_length = st.slider(\"Sepal Length\", 4.0, 8.0, 5.1)\n",
        "sepal_width = st.slider(\"Sepal Width\", 2.0, 4.5, 3.5)\n",
        "petal_length = st.slider(\"Petal Length\", 1.0, 7.0, 1.4)\n",
        "petal_width = st.slider(\"Petal Width\", 0.1, 2.5, 0.2)\n",
        "\n",
        "input_data = np.array([[sepal_length, sepal_width, petal_length, petal_width]])\n",
        "\n",
        "# Predict\n",
        "prediction = model.predict(input_data)\n",
        "labels = ['Setosa', 'Versicolor', 'Virginica']\n",
        "\n",
        "st.subheader(\"Prediction:\")\n",
        "st.success(f\"This flower is: **{labels[prediction[0]]}**\")"
      ],
      "metadata": {
        "colab": {
          "base_uri": "https://localhost:8080/"
        },
        "id": "-rN5fuJqgsd3",
        "outputId": "3058275d-eb29-4701-8459-3fa78cc95d43"
      },
      "execution_count": 15,
      "outputs": [
        {
          "output_type": "stream",
          "name": "stdout",
          "text": [
            "Overwriting app.py\n"
          ]
        }
      ]
    },
    {
      "cell_type": "code",
      "source": [
        "from sklearn.datasets import load_iris\n",
        "from sklearn.ensemble import RandomForestClassifier\n",
        "import pickle\n",
        "\n",
        "iris = load_iris()\n",
        "X, y = iris.data, iris.target\n",
        "\n",
        "model = RandomForestClassifier()\n",
        "model.fit(X, y)\n",
        "\n",
        "with open(\"iris_model.pkl\", \"wb\") as f:\n",
        "    pickle.dump(model, f)"
      ],
      "metadata": {
        "id": "uFRkMfgEgsYJ"
      },
      "execution_count": 16,
      "outputs": []
    },
    {
      "cell_type": "code",
      "source": [
        "import time\n",
        "from pyngrok import ngrok\n",
        "\n",
        "# Kill previous tunnels\n",
        "ngrok.kill()\n",
        "\n",
        "# Run the Streamlit app\n",
        "!streamlit run app.py &>/content/log.txt &\n",
        "\n",
        "# Give it a few seconds to launch\n",
        "time.sleep(5)\n",
        "\n",
        "# Create tunnel on port 8501 (HTTP protocol)\n",
        "public_url = ngrok.connect(8501, \"http\")\n",
        "print(f\"🚀 App is live at: {public_url}\")"
      ],
      "metadata": {
        "colab": {
          "base_uri": "https://localhost:8080/"
        },
        "id": "Zs3UTRYFhKEX",
        "outputId": "5012c987-21e9-4c84-efa1-a06fc57e7b1c"
      },
      "execution_count": 18,
      "outputs": [
        {
          "output_type": "stream",
          "name": "stdout",
          "text": [
            "🚀 App is live at: NgrokTunnel: \"https://e26070614c9f.ngrok-free.app\" -> \"http://localhost:8501\"\n"
          ]
        }
      ]
    },
    {
      "cell_type": "code",
      "source": [],
      "metadata": {
        "id": "4paRvWR1hJ6p"
      },
      "execution_count": null,
      "outputs": []
    }
  ]
}